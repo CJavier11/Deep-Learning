{
  "nbformat": 4,
  "nbformat_minor": 0,
  "metadata": {
    "accelerator": "GPU",
    "colab": {
      "name": "ECE595_Final_Project.ipynb",
      "provenance": [],
      "collapsed_sections": []
    },
    "kernelspec": {
      "display_name": "Python 3",
      "name": "python3"
    },
    "language_info": {
      "name": "python"
    }
  },
  "cells": [
    {
      "cell_type": "code",
      "metadata": {
        "id": "7k7ou6Jc_Rx7"
      },
      "source": [
        "!pip install --quiet optuna"
      ],
      "execution_count": null,
      "outputs": []
    },
    {
      "cell_type": "code",
      "metadata": {
        "id": "03D7XmBV3gtf"
      },
      "source": [
        "import numpy as np\n",
        "import matplotlib.pyplot as plt\n",
        "import pandas as pd\n",
        "import tensorflow as tf\n",
        "from tensorflow import keras\n",
        "from tensorflow.keras import layers\n",
        "from keras.models import Sequential\n",
        "from keras.layers import Flatten\n",
        "from keras.layers import Conv1D, MaxPooling1D\n",
        "from keras.models import Sequential\n",
        "from keras.layers import Dense\n",
        "from keras.layers import LSTM\n",
        "from keras.layers import Dropout\n",
        "from keras.layers import BatchNormalization\n",
        "from keras.layers import Conv2D, MaxPooling2D\n",
        "import optuna\n",
        "from optuna.integration import KerasPruningCallback\n",
        "from optuna.trial import TrialState\n",
        "## load the libraries \n",
        "import sys\n",
        "import warnings\n",
        "import os\n",
        "import glob\n",
        "warnings.filterwarnings(\"ignore\")\n",
        "import numpy as np\n",
        "import pandas as pd\n",
        "import cv2\n",
        "from sklearn.model_selection import train_test_split\n",
        "from keras.layers import *\n",
        "from keras.callbacks import EarlyStopping\n",
        "from keras.models import Model, Sequential\n",
        "from keras.metrics import *\n",
        "from keras.optimizers import Adam, RMSprop\n",
        "from scipy.stats import norm\n",
        "from keras.preprocessing import image\n",
        "from keras import datasets\n",
        "from keras import backend as K"
      ],
      "execution_count": null,
      "outputs": []
    },
    {
      "cell_type": "code",
      "metadata": {
        "colab": {
          "base_uri": "https://localhost:8080/"
        },
        "id": "YHx5Z_oz4qgz",
        "outputId": "099a5d88-ca93-4de7-9f08-66c19af09e01"
      },
      "source": [
        "#Get access to google drive directory\n",
        "#Example path \"/content/drive/My Drive/Data\"\n",
        "from google.colab import drive\n",
        "drive.mount(\"/content/gdrive\", force_remount=True)"
      ],
      "execution_count": null,
      "outputs": [
        {
          "output_type": "stream",
          "text": [
            "Mounted at /content/gdrive\n"
          ],
          "name": "stdout"
        }
      ]
    },
    {
      "cell_type": "code",
      "metadata": {
        "colab": {
          "base_uri": "https://localhost:8080/",
          "height": 204
        },
        "id": "6L97jhL15smH",
        "outputId": "ee460c9b-b630-4271-e866-532c1c4f753c"
      },
      "source": [
        "#Train Datasets\n",
        "\n",
        "#dataset_train_1 = pd.read_csv('/content/gdrive/MyDrive/PYTHON/TRAIN/MSFT_train.csv')\n",
        "#dataset_train_1 = pd.read_csv('/content/gdrive/MyDrive/stockprice-master/NSE-TATAGLOBAL.csv')\n",
        "#dataset_train_1 = pd.read_csv('/content/gdrive/MyDrive/PYTHON/TRAIN/AAPL_train.csv')\n",
        "dataset_train_1 = pd.read_csv('/content/gdrive/MyDrive/PYTHON/TRAIN/DIS_train.csv')\n",
        "training_set = dataset_train_1.iloc[:, 1:2].values\n",
        "dataset_train_1.head()"
      ],
      "execution_count": null,
      "outputs": [
        {
          "output_type": "execute_result",
          "data": {
            "text/html": [
              "<div>\n",
              "<style scoped>\n",
              "    .dataframe tbody tr th:only-of-type {\n",
              "        vertical-align: middle;\n",
              "    }\n",
              "\n",
              "    .dataframe tbody tr th {\n",
              "        vertical-align: top;\n",
              "    }\n",
              "\n",
              "    .dataframe thead th {\n",
              "        text-align: right;\n",
              "    }\n",
              "</style>\n",
              "<table border=\"1\" class=\"dataframe\">\n",
              "  <thead>\n",
              "    <tr style=\"text-align: right;\">\n",
              "      <th></th>\n",
              "      <th>Date</th>\n",
              "      <th>Open</th>\n",
              "      <th>High</th>\n",
              "      <th>Low</th>\n",
              "      <th>Close</th>\n",
              "      <th>Adj Close</th>\n",
              "      <th>Volume</th>\n",
              "    </tr>\n",
              "  </thead>\n",
              "  <tbody>\n",
              "    <tr>\n",
              "      <th>0</th>\n",
              "      <td>1990-01-02</td>\n",
              "      <td>9.207333</td>\n",
              "      <td>9.515615</td>\n",
              "      <td>9.207333</td>\n",
              "      <td>9.495063</td>\n",
              "      <td>6.968283</td>\n",
              "      <td>6983477</td>\n",
              "    </tr>\n",
              "    <tr>\n",
              "      <th>1</th>\n",
              "      <td>1990-01-03</td>\n",
              "      <td>9.495063</td>\n",
              "      <td>9.577271</td>\n",
              "      <td>9.464234</td>\n",
              "      <td>9.515615</td>\n",
              "      <td>6.983367</td>\n",
              "      <td>8077040</td>\n",
              "    </tr>\n",
              "    <tr>\n",
              "      <th>2</th>\n",
              "      <td>1990-01-04</td>\n",
              "      <td>9.515615</td>\n",
              "      <td>9.608099</td>\n",
              "      <td>9.412854</td>\n",
              "      <td>9.505339</td>\n",
              "      <td>6.975823</td>\n",
              "      <td>7721845</td>\n",
              "    </tr>\n",
              "    <tr>\n",
              "      <th>3</th>\n",
              "      <td>1990-01-05</td>\n",
              "      <td>9.505339</td>\n",
              "      <td>9.597823</td>\n",
              "      <td>9.495063</td>\n",
              "      <td>9.536167</td>\n",
              "      <td>6.998448</td>\n",
              "      <td>3961885</td>\n",
              "    </tr>\n",
              "    <tr>\n",
              "      <th>4</th>\n",
              "      <td>1990-01-08</td>\n",
              "      <td>9.536167</td>\n",
              "      <td>9.680031</td>\n",
              "      <td>9.525891</td>\n",
              "      <td>9.608099</td>\n",
              "      <td>7.058542</td>\n",
              "      <td>6647745</td>\n",
              "    </tr>\n",
              "  </tbody>\n",
              "</table>\n",
              "</div>"
            ],
            "text/plain": [
              "         Date      Open      High       Low     Close  Adj Close   Volume\n",
              "0  1990-01-02  9.207333  9.515615  9.207333  9.495063   6.968283  6983477\n",
              "1  1990-01-03  9.495063  9.577271  9.464234  9.515615   6.983367  8077040\n",
              "2  1990-01-04  9.515615  9.608099  9.412854  9.505339   6.975823  7721845\n",
              "3  1990-01-05  9.505339  9.597823  9.495063  9.536167   6.998448  3961885\n",
              "4  1990-01-08  9.536167  9.680031  9.525891  9.608099   7.058542  6647745"
            ]
          },
          "metadata": {
            "tags": []
          },
          "execution_count": 4
        }
      ]
    },
    {
      "cell_type": "code",
      "metadata": {
        "id": "CC9-PSWH6WFc"
      },
      "source": [
        "#Process Training Dataset\n",
        "from sklearn.preprocessing import MinMaxScaler\n",
        "sc = MinMaxScaler(feature_range = (0, 1))\n",
        "training_set_scaled = sc.fit_transform(training_set)"
      ],
      "execution_count": null,
      "outputs": []
    },
    {
      "cell_type": "code",
      "metadata": {
        "id": "KaS_DFvc6W47"
      },
      "source": [
        "#Process Training Dataset\n",
        "X_train = []\n",
        "y_train = []\n",
        "for i in range(60, 2035):\n",
        "    X_train.append(training_set_scaled[i-60:i, 0])\n",
        "    y_train.append(training_set_scaled[i, 0])\n",
        "X_train, y_train = np.array(X_train), np.array(y_train)\n",
        "\n",
        "X_train = np.reshape(X_train, (X_train.shape[0], X_train.shape[1], 1))"
      ],
      "execution_count": null,
      "outputs": []
    },
    {
      "cell_type": "code",
      "metadata": {
        "colab": {
          "base_uri": "https://localhost:8080/",
          "height": 204
        },
        "id": "mhK0EeCv-dwW",
        "outputId": "ad5379d4-dd84-4f08-ba6b-1ef40b5cd6b0"
      },
      "source": [
        "#Testing Datasets\n",
        "\n",
        "#dataset_test_1 = pd.read_csv('/content/gdrive/MyDrive/PYTHON/TEST/MSFT_test.csv')\n",
        "#dataset_test_1 = pd.read_csv('/content/gdrive/MyDrive/stockprice-master/tatatest.csv')\n",
        "#dataset_test_1 = pd.read_csv('/content/gdrive/MyDrive/PYTHON/TEST/AAPL_test.csv')\n",
        "dataset_test_1 = pd.read_csv('/content/gdrive/MyDrive/PYTHON/TEST/DIS_test.csv')\n",
        "real_stock_price = dataset_test_1.iloc[:, 1:2].values\n",
        "dataset_test_1.head()"
      ],
      "execution_count": null,
      "outputs": [
        {
          "output_type": "execute_result",
          "data": {
            "text/html": [
              "<div>\n",
              "<style scoped>\n",
              "    .dataframe tbody tr th:only-of-type {\n",
              "        vertical-align: middle;\n",
              "    }\n",
              "\n",
              "    .dataframe tbody tr th {\n",
              "        vertical-align: top;\n",
              "    }\n",
              "\n",
              "    .dataframe thead th {\n",
              "        text-align: right;\n",
              "    }\n",
              "</style>\n",
              "<table border=\"1\" class=\"dataframe\">\n",
              "  <thead>\n",
              "    <tr style=\"text-align: right;\">\n",
              "      <th></th>\n",
              "      <th>Date</th>\n",
              "      <th>Open</th>\n",
              "      <th>High</th>\n",
              "      <th>Low</th>\n",
              "      <th>Close</th>\n",
              "      <th>Adj Close</th>\n",
              "      <th>Volume</th>\n",
              "    </tr>\n",
              "  </thead>\n",
              "  <tbody>\n",
              "    <tr>\n",
              "      <th>0</th>\n",
              "      <td>2015-01-02</td>\n",
              "      <td>94.910004</td>\n",
              "      <td>95.279999</td>\n",
              "      <td>92.849998</td>\n",
              "      <td>93.750000</td>\n",
              "      <td>87.376266</td>\n",
              "      <td>5865400</td>\n",
              "    </tr>\n",
              "    <tr>\n",
              "      <th>1</th>\n",
              "      <td>2015-01-05</td>\n",
              "      <td>93.279999</td>\n",
              "      <td>93.349998</td>\n",
              "      <td>91.779999</td>\n",
              "      <td>92.379997</td>\n",
              "      <td>86.099403</td>\n",
              "      <td>7789400</td>\n",
              "    </tr>\n",
              "    <tr>\n",
              "      <th>2</th>\n",
              "      <td>2015-01-06</td>\n",
              "      <td>92.570000</td>\n",
              "      <td>93.190002</td>\n",
              "      <td>91.160004</td>\n",
              "      <td>91.889999</td>\n",
              "      <td>85.642708</td>\n",
              "      <td>6793100</td>\n",
              "    </tr>\n",
              "    <tr>\n",
              "      <th>3</th>\n",
              "      <td>2015-01-07</td>\n",
              "      <td>92.720001</td>\n",
              "      <td>93.150002</td>\n",
              "      <td>92.099998</td>\n",
              "      <td>92.830002</td>\n",
              "      <td>86.518814</td>\n",
              "      <td>6589500</td>\n",
              "    </tr>\n",
              "    <tr>\n",
              "      <th>4</th>\n",
              "      <td>2015-01-08</td>\n",
              "      <td>93.870003</td>\n",
              "      <td>94.300003</td>\n",
              "      <td>93.559998</td>\n",
              "      <td>93.790001</td>\n",
              "      <td>87.413536</td>\n",
              "      <td>7579400</td>\n",
              "    </tr>\n",
              "  </tbody>\n",
              "</table>\n",
              "</div>"
            ],
            "text/plain": [
              "         Date       Open       High        Low      Close  Adj Close   Volume\n",
              "0  2015-01-02  94.910004  95.279999  92.849998  93.750000  87.376266  5865400\n",
              "1  2015-01-05  93.279999  93.349998  91.779999  92.379997  86.099403  7789400\n",
              "2  2015-01-06  92.570000  93.190002  91.160004  91.889999  85.642708  6793100\n",
              "3  2015-01-07  92.720001  93.150002  92.099998  92.830002  86.518814  6589500\n",
              "4  2015-01-08  93.870003  94.300003  93.559998  93.790001  87.413536  7579400"
            ]
          },
          "metadata": {
            "tags": []
          },
          "execution_count": 7
        }
      ]
    },
    {
      "cell_type": "code",
      "metadata": {
        "id": "IiWkv3JEBQeu"
      },
      "source": [
        "#Autoencoder Model\n",
        "def AE_model(trial):\n",
        "  # input layer\n",
        "  input_layer = Input(shape=(X_train.shape[1], 1))\n",
        "\n",
        "  # encoding architecture\n",
        "  encoded_layer1 = Conv1D(50, (3), activation='relu', padding='same')(input_layer)\n",
        "  encoded_layer1 = MaxPool1D( (2), padding='same')(encoded_layer1)\n",
        "  encoded_layer2 = Conv1D(50, (3), activation='relu', padding='same')(encoded_layer1)\n",
        "  encoded_layer2 = MaxPool1D( (2), padding='same')(encoded_layer2)\n",
        "  encoded_layer3 = Conv1D(50, (3), activation='relu', padding='same')(encoded_layer2)\n",
        "  latent_view    = MaxPool1D( (2), padding='same')(encoded_layer3)\n",
        "  # decoding architecture\n",
        "  decoded_layer1 = Conv1D(50, (3), activation='relu', padding='same')(latent_view)\n",
        "  decoded_layer1 = UpSampling1D((2))(decoded_layer1)\n",
        "  decoded_layer2 = Conv1D(50, (3), activation='relu', padding='same')(decoded_layer1)\n",
        "  decoded_layer2 = UpSampling1D((2))(decoded_layer2)\n",
        "  decoded_layer3 = Conv1D(50, (3), activation='relu')(decoded_layer2)\n",
        "  decoded_layer3 = UpSampling1D((2))(decoded_layer3)\n",
        "  output_layer   = Conv1D(1, (3), padding='same')(decoded_layer3)\n",
        "  output_layer = tf.reshape(output_layer, [-1, 60])\n",
        "  # compile the model\n",
        "  model = Model(input_layer, output_layer)\n",
        "  optimizer = create_optimizer(trial)\n",
        "  model.compile(loss = 'mean_squared_error',optimizer=optimizer)\n",
        "  model.summary()\n",
        "  return model"
      ],
      "execution_count": null,
      "outputs": []
    },
    {
      "cell_type": "code",
      "metadata": {
        "id": "zjSZj0HfcOYe"
      },
      "source": [
        "#LSTM Model\n",
        "def reg_model(trial):  \n",
        "  regressor = Sequential()\n",
        "\n",
        "  regressor.add(LSTM(units = 50, return_sequences = True, input_shape = (X_train.shape[1], 1)))\n",
        "  regressor.add(Dropout(0.2))\n",
        "\n",
        "  regressor.add(LSTM(units = 50, return_sequences = True))\n",
        "  regressor.add(Dropout(0.2))\n",
        "\n",
        "  regressor.add(LSTM(units = 50, return_sequences = True))\n",
        "  regressor.add(Dropout(0.2))\n",
        "\n",
        "  regressor.add(LSTM(units = 50, return_sequences = True))\n",
        "  regressor.add(Dropout(0.2))\n",
        "\n",
        "  regressor.add(LSTM(units = 50))\n",
        "  regressor.add(Dropout(0.2))\n",
        "\n",
        "  regressor.add(Dense(units = 1))\n",
        "\n",
        "  optimizer = create_optimizer(trial)\n",
        "  regressor.compile(loss = 'mean_squared_error',optimizer=optimizer)\n",
        "  regressor.summary()\n",
        "  return regressor"
      ],
      "execution_count": null,
      "outputs": []
    },
    {
      "cell_type": "code",
      "metadata": {
        "id": "_kY230C87LCU"
      },
      "source": [
        "#Optimizer trial for Optuna\n",
        "def create_optimizer(trial):\n",
        "    # We optimize the choice of optimizers as well as their parameters.\n",
        "    kwargs = {}\n",
        "    optimizer_options = [\"Adam\"]\n",
        "    #optimizer_options = [\"RMSprop\", \"Adam\", \"SGD\"]\n",
        "    optimizer_selected = trial.suggest_categorical(\"optimizer\", optimizer_options)\n",
        "    if optimizer_selected == \"RMSprop\":\n",
        "        kwargs[\"learning_rate\"] = trial.suggest_float(\n",
        "            \"rmsprop_learning_rate\", 1e-5, 1e-1, log=True\n",
        "        )\n",
        "        kwargs[\"decay\"] = trial.suggest_float(\"rmsprop_decay\", 0.85, 0.99)\n",
        "        kwargs[\"momentum\"] = trial.suggest_float(\"rmsprop_momentum\", 1e-5, 1e-1, log=True)\n",
        "    elif optimizer_selected == \"Adam\":\n",
        "        #kwargs[\"learning_rate\"] = trial.suggest_float(\"adam_learning_rate\", 1e-5, 1e-1, log=True)\n",
        "        kwargs[\"learning_rate\"] = .0004399\n",
        "    elif optimizer_selected == \"SGD\":\n",
        "        kwargs[\"learning_rate\"] = trial.suggest_float(\n",
        "            \"sgd_opt_learning_rate\", 1e-5, 1e-1, log=True\n",
        "        )\n",
        "        kwargs[\"momentum\"] = trial.suggest_float(\"sgd_opt_momentum\", 1e-5, 1e-1, log=True)\n",
        "\n",
        "    optimizer = getattr(tf.optimizers, optimizer_selected)(**kwargs)\n",
        "    return optimizer"
      ],
      "execution_count": null,
      "outputs": []
    },
    {
      "cell_type": "code",
      "metadata": {
        "id": "gnSWKB3g7QeI"
      },
      "source": [
        "#Optuna Objective function\n",
        "def objective(trial):\n",
        "  #model = AE_model(trial)\n",
        "  model = reg_model(trial)\n",
        "  monitor = \"loss\"\n",
        "  callbacks = [\n",
        "        tf.keras.callbacks.EarlyStopping(patience=3),\n",
        "        KerasPruningCallback(trial, monitor),\n",
        "    ]\n",
        "  history = model.fit(X_train, y_train,\n",
        "          batch_size=32,\n",
        "          callbacks=callbacks,\n",
        "          epochs=15)\n",
        "\n",
        "  return history.history[monitor][-1]"
      ],
      "execution_count": null,
      "outputs": []
    },
    {
      "cell_type": "code",
      "metadata": {
        "colab": {
          "base_uri": "https://localhost:8080/"
        },
        "id": "GgyBKDf87YQA",
        "outputId": "544983ad-8ab1-45e6-e22d-7817b73db522"
      },
      "source": [
        "#Create Optuna Study\n",
        "if __name__ == \"__main__\":\n",
        "    \n",
        "    study = optuna.create_study(direction=\"minimize\", pruner=optuna.pruners.MedianPruner())\n",
        "    study.optimize(objective, n_trials=1)\n",
        "    \n",
        "    pruned_trials = study.get_trials(deepcopy=False, states=[TrialState.PRUNED])\n",
        "    complete_trials = study.get_trials(deepcopy=False, states=[TrialState.COMPLETE])\n",
        "    print(\"Study statistics: \")\n",
        "    print(\"  Number of finished trials: \", len(study.trials))\n",
        "    print(\"  Number of pruned trials: \", len(pruned_trials))\n",
        "    print(\"  Number of complete trials: \", len(complete_trials))\n",
        "\n",
        "    print(\"Best trial:\")\n",
        "    trial = study.best_trial\n",
        "\n",
        "    \n",
        "\n",
        "    \n",
        "\n",
        "    print(\"  Value: \", trial.value)\n",
        "\n",
        "    print(\"  Params: \")\n",
        "    for key, value in trial.params.items():\n",
        "        print(\"    {}: {}\".format(key, value))\n",
        "    \n",
        "    #Plot optimization history\n",
        "    #optuna.visualization.matplotlib.plot_optimization_history(study)\n",
        "    #Plot intermediate values\n",
        "    #optuna.visualization.matplotlib.plot_intermediate_values(study)"
      ],
      "execution_count": null,
      "outputs": [
        {
          "output_type": "stream",
          "text": [
            "\u001b[32m[I 2021-08-04 23:52:28,924]\u001b[0m A new study created in memory with name: no-name-d45d67cf-f7fd-417c-a4c6-d15213c2b470\u001b[0m\n"
          ],
          "name": "stderr"
        },
        {
          "output_type": "stream",
          "text": [
            "Model: \"sequential\"\n",
            "_________________________________________________________________\n",
            "Layer (type)                 Output Shape              Param #   \n",
            "=================================================================\n",
            "lstm (LSTM)                  (None, 60, 50)            10400     \n",
            "_________________________________________________________________\n",
            "dropout (Dropout)            (None, 60, 50)            0         \n",
            "_________________________________________________________________\n",
            "lstm_1 (LSTM)                (None, 60, 50)            20200     \n",
            "_________________________________________________________________\n",
            "dropout_1 (Dropout)          (None, 60, 50)            0         \n",
            "_________________________________________________________________\n",
            "lstm_2 (LSTM)                (None, 60, 50)            20200     \n",
            "_________________________________________________________________\n",
            "dropout_2 (Dropout)          (None, 60, 50)            0         \n",
            "_________________________________________________________________\n",
            "lstm_3 (LSTM)                (None, 60, 50)            20200     \n",
            "_________________________________________________________________\n",
            "dropout_3 (Dropout)          (None, 60, 50)            0         \n",
            "_________________________________________________________________\n",
            "lstm_4 (LSTM)                (None, 50)                20200     \n",
            "_________________________________________________________________\n",
            "dropout_4 (Dropout)          (None, 50)                0         \n",
            "_________________________________________________________________\n",
            "dense (Dense)                (None, 1)                 51        \n",
            "=================================================================\n",
            "Total params: 91,251\n",
            "Trainable params: 91,251\n",
            "Non-trainable params: 0\n",
            "_________________________________________________________________\n",
            "Epoch 1/15\n",
            "62/62 [==============================] - 33s 144ms/step - loss: 0.0042\n",
            "WARNING:tensorflow:Early stopping conditioned on metric `val_loss` which is not available. Available metrics are: loss\n",
            "Epoch 2/15\n",
            "62/62 [==============================] - 9s 143ms/step - loss: 2.8969e-04\n",
            "WARNING:tensorflow:Early stopping conditioned on metric `val_loss` which is not available. Available metrics are: loss\n",
            "Epoch 3/15\n",
            "62/62 [==============================] - 9s 142ms/step - loss: 2.6982e-04\n",
            "WARNING:tensorflow:Early stopping conditioned on metric `val_loss` which is not available. Available metrics are: loss\n",
            "Epoch 4/15\n",
            "62/62 [==============================] - 9s 140ms/step - loss: 2.2624e-04\n",
            "WARNING:tensorflow:Early stopping conditioned on metric `val_loss` which is not available. Available metrics are: loss\n",
            "Epoch 5/15\n",
            "62/62 [==============================] - 9s 145ms/step - loss: 2.0606e-04\n",
            "WARNING:tensorflow:Early stopping conditioned on metric `val_loss` which is not available. Available metrics are: loss\n",
            "Epoch 6/15\n",
            "62/62 [==============================] - 9s 142ms/step - loss: 1.9147e-04\n",
            "WARNING:tensorflow:Early stopping conditioned on metric `val_loss` which is not available. Available metrics are: loss\n",
            "Epoch 7/15\n",
            "62/62 [==============================] - 9s 142ms/step - loss: 2.0488e-04\n",
            "WARNING:tensorflow:Early stopping conditioned on metric `val_loss` which is not available. Available metrics are: loss\n",
            "Epoch 8/15\n",
            "62/62 [==============================] - 9s 141ms/step - loss: 1.8403e-04\n",
            "WARNING:tensorflow:Early stopping conditioned on metric `val_loss` which is not available. Available metrics are: loss\n",
            "Epoch 9/15\n",
            "62/62 [==============================] - 9s 143ms/step - loss: 1.6515e-04\n",
            "WARNING:tensorflow:Early stopping conditioned on metric `val_loss` which is not available. Available metrics are: loss\n",
            "Epoch 10/15\n",
            "62/62 [==============================] - 9s 144ms/step - loss: 1.9235e-04\n",
            "WARNING:tensorflow:Early stopping conditioned on metric `val_loss` which is not available. Available metrics are: loss\n",
            "Epoch 11/15\n",
            "62/62 [==============================] - 9s 144ms/step - loss: 2.1858e-04\n",
            "WARNING:tensorflow:Early stopping conditioned on metric `val_loss` which is not available. Available metrics are: loss\n",
            "Epoch 12/15\n",
            "62/62 [==============================] - 9s 143ms/step - loss: 1.7529e-04\n",
            "WARNING:tensorflow:Early stopping conditioned on metric `val_loss` which is not available. Available metrics are: loss\n",
            "Epoch 13/15\n",
            "62/62 [==============================] - 9s 143ms/step - loss: 1.6966e-04\n",
            "WARNING:tensorflow:Early stopping conditioned on metric `val_loss` which is not available. Available metrics are: loss\n",
            "Epoch 14/15\n",
            "62/62 [==============================] - 9s 145ms/step - loss: 1.8091e-04\n",
            "WARNING:tensorflow:Early stopping conditioned on metric `val_loss` which is not available. Available metrics are: loss\n",
            "Epoch 15/15\n",
            "62/62 [==============================] - 9s 143ms/step - loss: 1.5735e-04\n",
            "WARNING:tensorflow:Early stopping conditioned on metric `val_loss` which is not available. Available metrics are: loss\n"
          ],
          "name": "stdout"
        },
        {
          "output_type": "stream",
          "text": [
            "\u001b[32m[I 2021-08-04 23:55:16,222]\u001b[0m Trial 0 finished with value: 0.00016117309860419482 and parameters: {'optimizer': 'Adam'}. Best is trial 0 with value: 0.00016117309860419482.\u001b[0m\n"
          ],
          "name": "stderr"
        },
        {
          "output_type": "stream",
          "text": [
            "Study statistics: \n",
            "  Number of finished trials:  1\n",
            "  Number of pruned trials:  0\n",
            "  Number of complete trials:  1\n",
            "Best trial:\n",
            "  Value:  0.00016117309860419482\n",
            "  Params: \n",
            "    optimizer: Adam\n"
          ],
          "name": "stdout"
        }
      ]
    },
    {
      "cell_type": "code",
      "metadata": {
        "colab": {
          "base_uri": "https://localhost:8080/"
        },
        "id": "XmsPZa5be7m7",
        "outputId": "fb30258a-bd64-47f7-ce7b-4bfc1282b880"
      },
      "source": [
        "#Predict stock price via X_test in model\n",
        "\n",
        "regressor = reg_model(trial)\n",
        "#model = AE_model(trial)\n",
        "dataset_total = pd.concat((dataset_train_1['Open'], dataset_test_1['Open']), axis = 0)\n",
        "inputs = dataset_total[len(dataset_total) - len(dataset_test_1) - 60:].values\n",
        "inputs = inputs.reshape(-1,1)\n",
        "inputs = sc.transform(inputs)\n",
        "X_test = []\n",
        "for i in range(60, 1700):\n",
        "    X_test.append(inputs[i-60:i, 0])\n",
        "X_test = np.array(X_test)\n",
        "X_test = np.reshape(X_test, (X_test.shape[0], X_test.shape[1], 1))\n",
        "#predicted_stock_price = model.predict(X_test)\n",
        "predicted_stock_price = regressor.predict(X_test)\n",
        "predicted_stock_price = sc.inverse_transform(predicted_stock_price)"
      ],
      "execution_count": null,
      "outputs": [
        {
          "output_type": "stream",
          "text": [
            "Model: \"sequential_1\"\n",
            "_________________________________________________________________\n",
            "Layer (type)                 Output Shape              Param #   \n",
            "=================================================================\n",
            "lstm_5 (LSTM)                (None, 60, 50)            10400     \n",
            "_________________________________________________________________\n",
            "dropout_5 (Dropout)          (None, 60, 50)            0         \n",
            "_________________________________________________________________\n",
            "lstm_6 (LSTM)                (None, 60, 50)            20200     \n",
            "_________________________________________________________________\n",
            "dropout_6 (Dropout)          (None, 60, 50)            0         \n",
            "_________________________________________________________________\n",
            "lstm_7 (LSTM)                (None, 60, 50)            20200     \n",
            "_________________________________________________________________\n",
            "dropout_7 (Dropout)          (None, 60, 50)            0         \n",
            "_________________________________________________________________\n",
            "lstm_8 (LSTM)                (None, 60, 50)            20200     \n",
            "_________________________________________________________________\n",
            "dropout_8 (Dropout)          (None, 60, 50)            0         \n",
            "_________________________________________________________________\n",
            "lstm_9 (LSTM)                (None, 50)                20200     \n",
            "_________________________________________________________________\n",
            "dropout_9 (Dropout)          (None, 50)                0         \n",
            "_________________________________________________________________\n",
            "dense_1 (Dense)              (None, 1)                 51        \n",
            "=================================================================\n",
            "Total params: 91,251\n",
            "Trainable params: 91,251\n",
            "Non-trainable params: 0\n",
            "_________________________________________________________________\n"
          ],
          "name": "stdout"
        }
      ]
    },
    {
      "cell_type": "code",
      "metadata": {
        "id": "NyALKl-j_DQ2"
      },
      "source": [
        "#AE Only\n",
        "#predicted_stock_price_1 = np.delete(predicted_stock_price,[range(2,60)], 1)\n",
        "#predicted_stock_price_1 = np.delete(predicted_stock_price_1,[0], 1)\n",
        "#print(predicted_stock_price_1)"
      ],
      "execution_count": null,
      "outputs": []
    },
    {
      "cell_type": "code",
      "metadata": {
        "colab": {
          "base_uri": "https://localhost:8080/",
          "height": 312
        },
        "id": "4SpIaL_4-ltQ",
        "outputId": "0281ae7b-b4df-4754-e86b-7fbb0ab3cf72"
      },
      "source": [
        "#Plot Predictions\n",
        "plt.plot(real_stock_price, color = 'blue', label = 'DIS Stock Price')\n",
        "plt.plot(predicted_stock_price*-100+570, color = 'red', label = 'Predicted DIS Stock Price')\n",
        "plt.title('LSTM: DIS Stock Price Prediction')\n",
        "plt.xlabel('Time: Days')\n",
        "plt.ylabel('DIS Stock Price: Dollars')\n",
        "#plt.xlim([0, 200])\n",
        "plt.legend()\n",
        "plt.show()\n",
        "z = 0\n",
        "for x in range (0,1639,1):\n",
        "  y1 = real_stock_price[x]\n",
        "  y2 = (predicted_stock_price[x]*-100+570)\n",
        "  if y1 > y2:\n",
        "    z = z +(predicted_stock_price[x]*-100+570)/real_stock_price[x]\n",
        "  else :\n",
        "    z = z + real_stock_price[x]/(predicted_stock_price[x]*-100+570)\n",
        "\n",
        "  \n",
        "print(\"Accuracy: \", z/1639)"
      ],
      "execution_count": null,
      "outputs": [
        {
          "output_type": "display_data",
          "data": {
            "image/png": "[encoded data removed]",
            "text/plain": [
              "<Figure size 432x288 with 1 Axes>"
            ]
          },
          "metadata": {
            "tags": [],
            "needs_background": "light"
          }
        },
        {
          "output_type": "stream",
          "text": [
            "Accuracy:  [0.94529275]\n"
          ],
          "name": "stdout"
        }
      ]
    }
  ]
}