{
  "nbformat": 4,
  "nbformat_minor": 5,
  "metadata": {
    "colab": {
      "name": "ECE595 HMK3 - Hmk2Pull.ipynb",
      "provenance": [],
      "collapsed_sections": []
    },
    "kernelspec": {
      "display_name": "Python 3",
      "language": "python",
      "name": "python3"
    },
    "language_info": {
      "codemirror_mode": {
        "name": "ipython",
        "version": 3
      },
      "file_extension": ".py",
      "mimetype": "text/x-python",
      "name": "python",
      "nbconvert_exporter": "python",
      "pygments_lexer": "ipython3",
      "version": "3.8.8"
    },
    "accelerator": "GPU"
  },
  "cells": [
    {
      "cell_type": "code",
      "metadata": {
        "id": "IZ74u1OYywdY"
      },
      "source": [
        "#Author: Christopher Couture Del Valle\n",
        "#ECE 595 Z2"
      ],
      "id": "IZ74u1OYywdY",
      "execution_count": null,
      "outputs": []
    },
    {
      "cell_type": "code",
      "metadata": {
        "id": "4XxbX7oNTZP5"
      },
      "source": [
        "#pip install split-folders\n",
        "!pip install --quiet optuna"
      ],
      "id": "4XxbX7oNTZP5",
      "execution_count": 1,
      "outputs": []
    },
    {
      "cell_type": "code",
      "metadata": {
        "id": "2ce8d220-6f86-45bc-a99e-0423d44af56f"
      },
      "source": [
        "# import dataset, model and layers  \n",
        "import tensorflow as tf\n",
        "import pandas as pd\n",
        "import numpy as np\n",
        "import os\n",
        "import cv2\n",
        "import random\n",
        "import matplotlib.pyplot as plt\n",
        "from scipy import misc\n",
        "from __future__ import print_function\n",
        "from tensorflow import keras\n",
        "from tensorflow.keras import layers\n",
        "from keras.datasets import mnist\n",
        "from keras.models import Sequential\n",
        "from keras.layers import Dense, Dropout, Flatten\n",
        "from keras.layers import Conv2D, MaxPooling2D\n",
        "from keras import backend as K\n",
        "#import splitfolders\n",
        "from keras import Model\n",
        "from keras.applications.resnet50 import preprocess_input\n",
        "from keras.preprocessing.image import img_to_array, load_img\n",
        "from keras.layers import ZeroPadding2D\n",
        "from keras.models import Sequential\n",
        "from keras.layers import Dense, Conv2D, MaxPooling2D,Dropout, Flatten, BatchNormalization, Concatenate, AveragePooling2D\n",
        "from keras.callbacks import EarlyStopping, LearningRateScheduler\n",
        "\n",
        "#For cifar 100\n",
        "from keras.datasets import cifar100\n",
        "\n",
        "from keras.layers.normalization import BatchNormalization\n",
        "\n",
        "import optuna\n",
        "from optuna.integration import KerasPruningCallback\n",
        "from optuna.trial import TrialState\n",
        "\n",
        "#batch_size = 64\n",
        "#num_classes = 15\n",
        "#epochs = 200\n",
        "\n",
        "batch_size = 32\n",
        "num_classes = 1000\n",
        "epochs = 20\n",
        "num_predictions = 20\n",
        "\n",
        "data_augmentation = True\n",
        "\n",
        "# input image dimensions\n",
        "#img_rows, img_cols = 64, 64"
      ],
      "id": "2ce8d220-6f86-45bc-a99e-0423d44af56f",
      "execution_count": 2,
      "outputs": []
    },
    {
      "cell_type": "code",
      "metadata": {
        "id": "witvFtWKQ8tR"
      },
      "source": [
        "#device_name = tf.test.gpu_device_name()\n",
        "#if device_name != '/device:GPU:0':\n",
        "#  raise SystemError('GPU device not found')\n",
        "#print('Found GPU at: {}'.format(device_name))"
      ],
      "id": "witvFtWKQ8tR",
      "execution_count": null,
      "outputs": []
    },
    {
      "cell_type": "code",
      "metadata": {
        "colab": {
          "base_uri": "https://localhost:8080/"
        },
        "id": "y9dK3pmwBPTh",
        "outputId": "b05f89a9-2fb8-45ba-ce0d-a103d02b2b57"
      },
      "source": [
        "#Get access to google drive directory\n",
        "from google.colab import drive\n",
        "drive.mount('/content/drive')"
      ],
      "id": "y9dK3pmwBPTh",
      "execution_count": null,
      "outputs": [
        {
          "output_type": "stream",
          "text": [
            "Mounted at /content/drive\n"
          ],
          "name": "stdout"
        }
      ]
    },
    {
      "cell_type": "code",
      "metadata": {
        "id": "yA_JAkgiRbnc"
      },
      "source": [
        "#Spli folders in 70/30 by category\n",
        "#splitfolders.ratio((\"/content/drive/My Drive/15-Scene\"), output = \"/content/drive/My Drive/15Data\", seed = 1337, ratio=(0.7,0.3),group_prefix=None)"
      ],
      "id": "yA_JAkgiRbnc",
      "execution_count": null,
      "outputs": []
    },
    {
      "cell_type": "markdown",
      "metadata": {
        "id": "c022YJ_j4osz"
      },
      "source": [
        "CIFAR100"
      ],
      "id": "c022YJ_j4osz"
    },
    {
      "cell_type": "code",
      "metadata": {
        "colab": {
          "base_uri": "https://localhost:8080/"
        },
        "id": "ujm7nJxe4cbv",
        "outputId": "90fddf89-b233-45d1-b300-8ec399e99ff5"
      },
      "source": [
        "# The data, split between train and test sets:\n",
        "(x_train, y_train), (x_test, y_test) = cifar100.load_data()\n",
        "print('x_train shape:', x_train.shape)\n",
        "print('x_test shape:', x_test.shape)\n",
        "print(x_train.shape[0], 'train samples')\n",
        "print(x_test.shape[0], 'test samples')\n",
        "\n",
        "# Convert class vectors to binary class matrices.\n",
        "y_train = keras.utils.to_categorical(y_train, num_classes)\n",
        "y_test = keras.utils.to_categorical(y_test, num_classes)\n",
        "#image_size =32"
      ],
      "id": "ujm7nJxe4cbv",
      "execution_count": 3,
      "outputs": [
        {
          "output_type": "stream",
          "text": [
            "x_train shape: (50000, 32, 32, 3)\n",
            "x_test shape: (10000, 32, 32, 3)\n",
            "50000 train samples\n",
            "10000 test samples\n"
          ],
          "name": "stdout"
        }
      ]
    },
    {
      "cell_type": "code",
      "metadata": {
        "id": "9785F6IUR2cW"
      },
      "source": [
        "# Function to load image and convert into array\n",
        "def convert_img_to_array(dir_path):\n",
        "    x = []\n",
        "    y = []\n",
        "    one_hot_lookups = np.eye(15)\n",
        "    for category in sorted(os.listdir(dir_path)):\n",
        "        for file in os.listdir(dir_path + category):\n",
        "            img = load_img(dir_path + category + '/' + file,\n",
        "                       target_size=(64, 64))  # Load image\n",
        "            img = img_to_array(img)  # Convert image to array\n",
        "            img = preprocess_input(img)  # Preprocessing on the image\n",
        "            x.append(img)  # Append image to X_train\n",
        "            y.append(np.reshape(one_hot_lookups[int(category)],\n",
        "                                  [15]))  # Append category to y_train\n",
        "    return x,y"
      ],
      "id": "9785F6IUR2cW",
      "execution_count": null,
      "outputs": []
    },
    {
      "cell_type": "code",
      "metadata": {
        "id": "K_ias3XamXwm"
      },
      "source": [
        "#Function to load image data\n",
        "def load_data():\n",
        "    train_dir_path = \"/content/drive/My Drive/15Data/train/\"\n",
        "    x_train,y_train = convert_img_to_array(train_dir_path)\n",
        "    \n",
        "    test_dir_path = \"/content/drive/My Drive/15Data/val/\"\n",
        "    x_test, y_test = convert_img_to_array(test_dir_path)\n",
        "    \n",
        "    x_train = np.asarray(x_train)\n",
        "    x_test = np.asarray(x_test)\n",
        "    y_train = np.asarray(y_train)\n",
        "    y_test = np.asarray(y_test)\n",
        "    \n",
        "    x_train /= np.std(x_train, axis = 0)\n",
        "    x_test /= np.std(x_test, axis = 0)\n",
        "    \n",
        "    train_ds = tf.data.Dataset.from_tensor_slices((x_train, y_train))\n",
        "    train_ds = train_ds.shuffle(60000).batch(batch_size).take(3133)\n",
        "\n",
        "    test_ds = tf.data.Dataset.from_tensor_slices((x_test, y_test))\n",
        "    test_ds = test_ds.shuffle(10000).batch(batch_size).take(1352)\n",
        "    return train_ds, test_ds\n",
        "#(x_train, y_train), (x_test, y_test) = load_data()"
      ],
      "id": "K_ias3XamXwm",
      "execution_count": null,
      "outputs": []
    },
    {
      "cell_type": "code",
      "metadata": {
        "id": "Q_PT47NwwKqc"
      },
      "source": [
        "#def get_custom():\n",
        "    #(x_train, y_train), (x_test, y_test) = load_data()\n",
        "    #x_train = x_train.astype('float32')\n",
        "    #x_test = x_test.astype('float32')\n",
        "    #x_train /= 255\n",
        "    #x_test /= 255\n",
        "    #y_train = y_train.astype(\"int32\")\n",
        "    #y_test = y_test.astype(\"int32\")\n",
        "    #test_ds = tf.data.Dataset.from_tensor_slices((x_test, y_test))\n",
        "    #test_ds = test_ds.shuffle(10000).batch(batch_size).take(1352)\n",
        "    #return train_ds, test_ds\n",
        "\n",
        "    "
      ],
      "id": "Q_PT47NwwKqc",
      "execution_count": null,
      "outputs": []
    },
    {
      "cell_type": "code",
      "metadata": {
        "id": "d90d4335-076b-4742-aed7-bb9f6ce6a0ba"
      },
      "source": [
        "def create_model(trial):\n",
        "\n",
        "  weight_decay = trial.suggest_float(\"weight_decay\", 1e-10, 1e-3, log=True)\n",
        "\n",
        "  model = Sequential()\n",
        "  model.add(Conv2D(32, (3,3), padding='same', strides = 1, activation='relu', \n",
        "                   kernel_initializer='he_uniform', \n",
        "                   kernel_regularizer=keras.regularizers.l2(weight_decay), \n",
        "                   ))\n",
        "\n",
        "  model.add(BatchNormalization())\n",
        "  model.add(Conv2D(32, (3,3), padding='same', strides = 1, activation='relu', \n",
        "                   kernel_initializer='he_uniform', \n",
        "                   kernel_regularizer=keras.regularizers.l2(weight_decay))) \n",
        "  model.add(BatchNormalization())\n",
        "  model.add(MaxPooling2D(pool_size=(2,2)))\n",
        "  model.add(Dropout(0.2))\n",
        " \n",
        "  model.add(Conv2D(64, (3,3), padding='same', strides = 1, activation='relu', \n",
        "                   kernel_initializer='he_uniform', \n",
        "                   kernel_regularizer=keras.regularizers.l2(weight_decay)))\n",
        "  model.add(BatchNormalization())\n",
        "  model.add(Conv2D(64, (3,3), padding='same', strides = 1, activation='relu', \n",
        "                   kernel_initializer='he_uniform', \n",
        "                   kernel_regularizer=keras.regularizers.l2(weight_decay)))\n",
        "  model.add(BatchNormalization())\n",
        "  model.add(MaxPooling2D(pool_size=(2,2)))\n",
        "  model.add(Dropout(0.3))\n",
        "\n",
        "  model.add(Conv2D(128, (3,3), padding='same', strides = 1, activation='relu', \n",
        "                   kernel_initializer='he_uniform', \n",
        "                   kernel_regularizer=keras.regularizers.l2(weight_decay)))\n",
        "  model.add(BatchNormalization())\n",
        "  model.add(Conv2D(128, (3,3), padding='same', strides = 1, activation='relu', \n",
        "                   kernel_initializer='he_uniform', \n",
        "                   kernel_regularizer=keras.regularizers.l2(weight_decay)))\n",
        "  model.add(BatchNormalization())\n",
        "  model.add(MaxPooling2D(pool_size=(2,2)))\n",
        "  model.add(Dropout(0.4))\n",
        "\n",
        "  model.add(Conv2D(256, (3,3), padding='same', strides = 1, activation='relu', \n",
        "                   kernel_initializer='he_uniform', \n",
        "                   kernel_regularizer=keras.regularizers.l2(weight_decay)))\n",
        "  model.add(MaxPooling2D(pool_size=(2,2)))\n",
        "  model.add(Dropout(0.6))\n",
        " \n",
        "  model.add(Flatten())\n",
        "  model.add(Dense(num_classes, activation='softmax'))\n",
        "\n",
        "  optimizer = create_optimizer(trial)\n",
        "  model.compile(loss=keras.losses.categorical_crossentropy,optimizer=optimizer,metrics=['accuracy'])\n",
        " \n",
        "  return model"
      ],
      "id": "d90d4335-076b-4742-aed7-bb9f6ce6a0ba",
      "execution_count": 4,
      "outputs": []
    },
    {
      "cell_type": "code",
      "metadata": {
        "id": "5429d89f-8701-40d9-9aef-0399f783aca4"
      },
      "source": [
        "def create_optimizer(trial):\n",
        "    # We optimize the choice of optimizers as well as their parameters.\n",
        "    kwargs = {}\n",
        "    #optimizer_options = [\"RMSprop\", \"Adam\", \"SGD\"]\n",
        "    optimizer_options = [\"Adam\"]\n",
        "    optimizer_selected = trial.suggest_categorical(\"optimizer\", optimizer_options)\n",
        "    if optimizer_selected == \"RMSprop\":\n",
        "        kwargs[\"learning_rate\"] = trial.suggest_float(\n",
        "            \"rmsprop_learning_rate\", 1e-5, 1e-1, log=True\n",
        "        )\n",
        "        kwargs[\"decay\"] = trial.suggest_float(\"rmsprop_decay\", 0.85, 0.99)\n",
        "        kwargs[\"momentum\"] = trial.suggest_float(\"rmsprop_momentum\", 1e-5, 1e-1, log=True)\n",
        "    elif optimizer_selected == \"Adam\":\n",
        "        kwargs[\"learning_rate\"] = trial.suggest_float(\"adam_learning_rate\", 1e-5, 1e-1, log=True)\n",
        "    elif optimizer_selected == \"SGD\":\n",
        "        kwargs[\"learning_rate\"] = trial.suggest_float(\n",
        "            \"sgd_opt_learning_rate\", 1e-5, 1e-1, log=True\n",
        "        )\n",
        "        kwargs[\"momentum\"] = trial.suggest_float(\"sgd_opt_momentum\", 1e-5, 1e-1, log=True)\n",
        "\n",
        "    optimizer = getattr(tf.optimizers, optimizer_selected)(**kwargs)\n",
        "    return optimizer"
      ],
      "id": "5429d89f-8701-40d9-9aef-0399f783aca4",
      "execution_count": 5,
      "outputs": []
    },
    {
      "cell_type": "markdown",
      "metadata": {
        "id": "1bWfMVUr45rQ"
      },
      "source": [
        "CIFAR100"
      ],
      "id": "1bWfMVUr45rQ"
    },
    {
      "cell_type": "code",
      "metadata": {
        "colab": {
          "base_uri": "https://localhost:8080/"
        },
        "id": "rGYssa-hG6NC",
        "outputId": "78eb4fa8-3572-463b-f6ab-2eb36c6829be"
      },
      "source": [
        "x_train = x_train.astype('float32')\n",
        "x_test = x_test.astype('float32')\n",
        "x_train /= 255\n",
        "x_test /= 255\n",
        "from keras.preprocessing.image import ImageDataGenerator\n",
        "if not data_augmentation:\n",
        "    print('Not using data augmentation.')\n",
        "    history = model.fit(x_train, y_train,\n",
        "              batch_size=batch_size,\n",
        "              epochs=epochs,\n",
        "              validation_data=(x_test, y_test),\n",
        "              shuffle=True)\n",
        "else:\n",
        "    print('Using real-time data augmentation.')\n",
        "    # This will do preprocessing and realtime data augmentation:\n",
        "    datagen = ImageDataGenerator(\n",
        "        featurewise_center=False,  # set input mean to 0 over the dataset\n",
        "        samplewise_center=False,  # set each sample mean to 0\n",
        "        featurewise_std_normalization=False,  # divide inputs by std of the dataset\n",
        "        samplewise_std_normalization=False,  # divide each input by its std\n",
        "        zca_whitening=False,  # apply ZCA whitening\n",
        "        zca_epsilon=1e-06,  # epsilon for ZCA whitening\n",
        "        rotation_range=0,  # randomly rotate images in the range (degrees, 0 to 180)\n",
        "        # randomly shift images horizontally (fraction of total width)\n",
        "        width_shift_range=0.1,\n",
        "        # randomly shift images vertically (fraction of total height)\n",
        "        height_shift_range=0.1,\n",
        "        shear_range=0.,  # set range for random shear\n",
        "        zoom_range=0.,  # set range for random zoom\n",
        "        channel_shift_range=0.,  # set range for random channel shifts\n",
        "        # set mode for filling points outside the input boundaries\n",
        "        fill_mode='nearest',\n",
        "        cval=0.,  # value used for fill_mode = \"constant\"\n",
        "        horizontal_flip=True,  # randomly flip images\n",
        "        vertical_flip=False,  # randomly flip images\n",
        "        # set rescaling factor (applied before any other transformation)\n",
        "        rescale=None,\n",
        "        # set function that will be applied on each input\n",
        "        preprocessing_function=None,\n",
        "        # image data format, either \"channels_first\" or \"channels_last\"\n",
        "        data_format=None,\n",
        "        # fraction of images reserved for validation (strictly between 0 and 1)\n",
        "        validation_split=0.0)\n",
        "\n",
        "    # Compute quantities required for feature-wise normalization\n",
        "    # (std, mean, and principal components if ZCA whitening is applied).\n",
        "    datagen.fit(x_train)\n",
        "   \n",
        "    # Fit the model on the batches generated by datagen.flow().\n",
        "    #history = model.fit_generator(datagen.flow(x_train, y_train,\n",
        "         #                            batch_size=batch_size),\n",
        "         #               epochs=epochs,\n",
        "         #               validation_data=(x_test, y_test))"
      ],
      "id": "rGYssa-hG6NC",
      "execution_count": 6,
      "outputs": [
        {
          "output_type": "stream",
          "text": [
            "Using real-time data augmentation.\n"
          ],
          "name": "stdout"
        }
      ]
    },
    {
      "cell_type": "code",
      "metadata": {
        "id": "HJess-iCzqxE"
      },
      "source": [
        "def objective(trial):\n",
        "  #train_ds, test_ds = load_data()\n",
        "  model = create_model(trial)\n",
        "  history = model.fit_generator(datagen.flow(x_train, y_train,\n",
        "                                    batch_size=batch_size),\n",
        "                                    callbacks=[KerasPruningCallback(trial, \"val_accuracy\")],\n",
        "                                    epochs=20,\n",
        "                                    verbose=1,\n",
        "                                    validation_data=(x_test, y_test))\n",
        "  \n",
        "  #history = model.fit(train_ds,\n",
        "   #       batch_size=batch_size,\n",
        "    #      callbacks=[KerasPruningCallback(trial, \"val_accuracy\")],\n",
        "     #     epochs=epochs,\n",
        "      #    verbose=1,\n",
        "       #   validation_data=test_ds)\n",
        "\n",
        "  score = model.evaluate(x_test,y_test, verbose = 0)\n",
        "  \n",
        "  return score[1]\n"
      ],
      "id": "HJess-iCzqxE",
      "execution_count": 16,
      "outputs": []
    },
    {
      "cell_type": "code",
      "metadata": {
        "id": "4927761f-71fd-4095-96ab-43fe0f0e9d60",
        "colab": {
          "base_uri": "https://localhost:8080/"
        },
        "outputId": "8dcee893-9b63-434c-a5fd-3175b7794124"
      },
      "source": [
        "if __name__ == \"__main__\":\n",
        "    \n",
        "    study = optuna.create_study(direction=\"maximize\", pruner=optuna.pruners.MedianPruner())\n",
        "    study.optimize(objective, n_trials=3)\n",
        "    pruned_trials = study.get_trials(deepcopy=False, states=[TrialState.PRUNED])\n",
        "    complete_trials = study.get_trials(deepcopy=False, states=[TrialState.COMPLETE])\n",
        "    print(\"Study statistics: \")\n",
        "    print(\"  Number of finished trials: \", len(study.trials))\n",
        "    print(\"  Number of pruned trials: \", len(pruned_trials))\n",
        "    print(\"  Number of complete trials: \", len(complete_trials))\n",
        "\n",
        "    print(\"Best trial:\")\n",
        "    trial = study.best_trial\n",
        "\n",
        "    print(\"  Value: \", trial.value)\n",
        "\n",
        "    print(\"  Params: \")\n",
        "    for key, value in trial.params.items():\n",
        "        print(\"    {}: {}\".format(key, value))"
      ],
      "id": "4927761f-71fd-4095-96ab-43fe0f0e9d60",
      "execution_count": 17,
      "outputs": [
        {
          "output_type": "stream",
          "text": [
            "\u001b[32m[I 2021-07-21 23:41:04,344]\u001b[0m A new study created in memory with name: no-name-65f3b28e-c025-4a94-9bb7-34197dafd53c\u001b[0m\n",
            "/usr/local/lib/python3.7/dist-packages/ipykernel_launcher.py:6: FutureWarning:\n",
            "\n",
            "KerasPruningCallback has been deprecated in v2.1.0. This feature will be removed in v4.0.0. See https://github.com/optuna/optuna/releases/tag/v2.1.0. Recent Keras release (2.4.0) simply redirects all APIs in the standalone keras package to point to tf.keras. There is now only one Keras: tf.keras. There may be some breaking changes for some workflows by upgrading to keras 2.4.0. Test before upgrading. REF:https://github.com/keras-team/keras/releases/tag/2.4.0\n",
            "\n",
            "/usr/local/lib/python3.7/dist-packages/keras/engine/training.py:1915: UserWarning:\n",
            "\n",
            "`Model.fit_generator` is deprecated and will be removed in a future version. Please use `Model.fit`, which supports generators.\n",
            "\n"
          ],
          "name": "stderr"
        },
        {
          "output_type": "stream",
          "text": [
            "Epoch 1/20\n",
            "1563/1563 [==============================] - 33s 19ms/step - loss: 5.2186 - accuracy: 0.0351 - val_loss: 3.6665 - val_accuracy: 0.1489\n",
            "Epoch 2/20\n",
            "1563/1563 [==============================] - 31s 20ms/step - loss: 3.8641 - accuracy: 0.1070 - val_loss: 3.3932 - val_accuracy: 0.1898\n",
            "Epoch 3/20\n",
            "1563/1563 [==============================] - 29s 18ms/step - loss: 3.5573 - accuracy: 0.1523 - val_loss: 3.1406 - val_accuracy: 0.2500\n",
            "Epoch 4/20\n",
            "1563/1563 [==============================] - 30s 19ms/step - loss: 3.3281 - accuracy: 0.1930 - val_loss: 2.9734 - val_accuracy: 0.2711\n",
            "Epoch 5/20\n",
            "1563/1563 [==============================] - 30s 19ms/step - loss: 3.1466 - accuracy: 0.2231 - val_loss: 2.7613 - val_accuracy: 0.3128\n",
            "Epoch 6/20\n",
            "1563/1563 [==============================] - 30s 19ms/step - loss: 3.0001 - accuracy: 0.2529 - val_loss: 2.6135 - val_accuracy: 0.3370\n",
            "Epoch 7/20\n",
            "1563/1563 [==============================] - 31s 20ms/step - loss: 2.8809 - accuracy: 0.2748 - val_loss: 2.5295 - val_accuracy: 0.3577\n",
            "Epoch 8/20\n",
            "1563/1563 [==============================] - 30s 19ms/step - loss: 2.7947 - accuracy: 0.2907 - val_loss: 2.4957 - val_accuracy: 0.3580\n",
            "Epoch 9/20\n",
            "1563/1563 [==============================] - 29s 19ms/step - loss: 2.7154 - accuracy: 0.3048 - val_loss: 2.3558 - val_accuracy: 0.3889\n",
            "Epoch 10/20\n",
            "1563/1563 [==============================] - 31s 20ms/step - loss: 2.6450 - accuracy: 0.3204 - val_loss: 2.2931 - val_accuracy: 0.4007\n",
            "Epoch 11/20\n",
            "1563/1563 [==============================] - 29s 19ms/step - loss: 2.5873 - accuracy: 0.3316 - val_loss: 2.2467 - val_accuracy: 0.4145\n",
            "Epoch 12/20\n",
            "1563/1563 [==============================] - 31s 20ms/step - loss: 2.5292 - accuracy: 0.3424 - val_loss: 2.2583 - val_accuracy: 0.4056\n",
            "Epoch 13/20\n",
            "1563/1563 [==============================] - 29s 19ms/step - loss: 2.4661 - accuracy: 0.3565 - val_loss: 2.1372 - val_accuracy: 0.4396\n",
            "Epoch 14/20\n",
            "1563/1563 [==============================] - 30s 19ms/step - loss: 2.4232 - accuracy: 0.3628 - val_loss: 2.2607 - val_accuracy: 0.4075\n",
            "Epoch 15/20\n",
            "1563/1563 [==============================] - 29s 19ms/step - loss: 2.3589 - accuracy: 0.3788 - val_loss: 2.0035 - val_accuracy: 0.4703\n",
            "Epoch 16/20\n",
            "1563/1563 [==============================] - 31s 20ms/step - loss: 2.3219 - accuracy: 0.3815 - val_loss: 1.9962 - val_accuracy: 0.4701\n",
            "Epoch 17/20\n",
            "1563/1563 [==============================] - 29s 19ms/step - loss: 2.2811 - accuracy: 0.3921 - val_loss: 1.9697 - val_accuracy: 0.4785\n",
            "Epoch 18/20\n",
            "1563/1563 [==============================] - 30s 19ms/step - loss: 2.2293 - accuracy: 0.4093 - val_loss: 1.9404 - val_accuracy: 0.4766\n",
            "Epoch 19/20\n",
            "1563/1563 [==============================] - 31s 20ms/step - loss: 2.2023 - accuracy: 0.4094 - val_loss: 1.9654 - val_accuracy: 0.4725\n",
            "Epoch 20/20\n",
            "1563/1563 [==============================] - 30s 19ms/step - loss: 2.1615 - accuracy: 0.4192 - val_loss: 1.8817 - val_accuracy: 0.4983\n"
          ],
          "name": "stdout"
        },
        {
          "output_type": "stream",
          "text": [
            "\u001b[32m[I 2021-07-21 23:51:29,038]\u001b[0m Trial 0 finished with value: 0.4982999861240387 and parameters: {'weight_decay': 4.7334492434534885e-09, 'optimizer': 'Adam', 'adam_learning_rate': 0.0004190581840410445}. Best is trial 0 with value: 0.4982999861240387.\u001b[0m\n"
          ],
          "name": "stderr"
        },
        {
          "output_type": "stream",
          "text": [
            "Epoch 1/20\n",
            "1563/1563 [==============================] - 34s 20ms/step - loss: 8.1662 - accuracy: 0.0101 - val_loss: 4.7787 - val_accuracy: 0.0445\n",
            "Epoch 2/20\n",
            "1563/1563 [==============================] - 29s 19ms/step - loss: 5.0253 - accuracy: 0.0235 - val_loss: 4.3554 - val_accuracy: 0.0744\n",
            "Epoch 3/20\n",
            "1563/1563 [==============================] - 30s 19ms/step - loss: 4.6410 - accuracy: 0.0370 - val_loss: 4.1060 - val_accuracy: 0.0935\n",
            "Epoch 4/20\n",
            "1563/1563 [==============================] - 30s 19ms/step - loss: 4.4254 - accuracy: 0.0479 - val_loss: 3.9307 - val_accuracy: 0.1121\n",
            "Epoch 5/20\n",
            "1563/1563 [==============================] - 30s 19ms/step - loss: 4.2636 - accuracy: 0.0603 - val_loss: 3.8135 - val_accuracy: 0.1319\n",
            "Epoch 6/20\n",
            "1563/1563 [==============================] - 31s 20ms/step - loss: 4.1309 - accuracy: 0.0714 - val_loss: 3.7081 - val_accuracy: 0.1445\n",
            "Epoch 7/20\n",
            "1563/1563 [==============================] - 30s 19ms/step - loss: 4.0402 - accuracy: 0.0859 - val_loss: 3.6374 - val_accuracy: 0.1541\n",
            "Epoch 8/20\n",
            "1563/1563 [==============================] - 31s 20ms/step - loss: 3.9519 - accuracy: 0.0947 - val_loss: 3.5759 - val_accuracy: 0.1641\n",
            "Epoch 9/20\n",
            "1563/1563 [==============================] - 31s 20ms/step - loss: 3.8891 - accuracy: 0.1038 - val_loss: 3.5067 - val_accuracy: 0.1752\n",
            "Epoch 10/20\n",
            "1563/1563 [==============================] - 29s 19ms/step - loss: 3.8131 - accuracy: 0.1126 - val_loss: 3.4667 - val_accuracy: 0.1844\n",
            "Epoch 11/20\n",
            "1563/1563 [==============================] - 31s 20ms/step - loss: 3.7700 - accuracy: 0.1210 - val_loss: 3.4317 - val_accuracy: 0.1884\n",
            "Epoch 12/20\n",
            "1563/1563 [==============================] - 29s 19ms/step - loss: 3.7091 - accuracy: 0.1281 - val_loss: 3.3819 - val_accuracy: 0.1989\n",
            "Epoch 13/20\n",
            "1563/1563 [==============================] - 31s 20ms/step - loss: 3.6660 - accuracy: 0.1337 - val_loss: 3.3386 - val_accuracy: 0.2062\n",
            "Epoch 14/20\n",
            "1563/1563 [==============================] - 29s 19ms/step - loss: 3.6125 - accuracy: 0.1480 - val_loss: 3.2973 - val_accuracy: 0.2113\n",
            "Epoch 15/20\n",
            "1563/1563 [==============================] - 30s 19ms/step - loss: 3.5661 - accuracy: 0.1506 - val_loss: 3.2462 - val_accuracy: 0.2236\n",
            "Epoch 16/20\n",
            "1563/1563 [==============================] - 30s 19ms/step - loss: 3.5171 - accuracy: 0.1607 - val_loss: 3.2320 - val_accuracy: 0.2212\n",
            "Epoch 17/20\n",
            "1563/1563 [==============================] - 30s 19ms/step - loss: 3.4775 - accuracy: 0.1695 - val_loss: 3.1991 - val_accuracy: 0.2289\n",
            "Epoch 18/20\n",
            "1563/1563 [==============================] - 31s 20ms/step - loss: 3.4544 - accuracy: 0.1730 - val_loss: 3.1593 - val_accuracy: 0.2313\n",
            "Epoch 19/20\n",
            "1563/1563 [==============================] - 30s 19ms/step - loss: 3.3970 - accuracy: 0.1806 - val_loss: 3.1391 - val_accuracy: 0.2387\n",
            "Epoch 20/20\n",
            "1563/1563 [==============================] - 30s 19ms/step - loss: 3.3612 - accuracy: 0.1891 - val_loss: 3.1227 - val_accuracy: 0.2432\n"
          ],
          "name": "stdout"
        },
        {
          "output_type": "stream",
          "text": [
            "\u001b[32m[I 2021-07-22 00:01:48,833]\u001b[0m Trial 1 finished with value: 0.24320000410079956 and parameters: {'weight_decay': 2.0192731109728288e-10, 'optimizer': 'Adam', 'adam_learning_rate': 3.2428684067564e-05}. Best is trial 0 with value: 0.4982999861240387.\u001b[0m\n"
          ],
          "name": "stderr"
        },
        {
          "output_type": "stream",
          "text": [
            "Epoch 1/20\n",
            "1563/1563 [==============================] - 34s 20ms/step - loss: 5.2412 - accuracy: 0.0139 - val_loss: 4.5249 - val_accuracy: 0.0177\n",
            "Epoch 2/20\n",
            "1563/1563 [==============================] - 30s 19ms/step - loss: 4.5796 - accuracy: 0.0139 - val_loss: 4.5305 - val_accuracy: 0.0157\n",
            "Epoch 3/20\n",
            "1563/1563 [==============================] - 30s 19ms/step - loss: 4.5822 - accuracy: 0.0134 - val_loss: 4.6109 - val_accuracy: 0.0100\n",
            "Epoch 4/20\n",
            "1563/1563 [==============================] - 29s 18ms/step - loss: 4.6049 - accuracy: 0.0108 - val_loss: 4.6103 - val_accuracy: 0.0100\n",
            "Epoch 5/20\n",
            "1563/1563 [==============================] - 30s 19ms/step - loss: 4.6120 - accuracy: 0.0097 - val_loss: 4.6099 - val_accuracy: 0.0100\n",
            "Epoch 6/20\n",
            "1563/1563 [==============================] - 29s 18ms/step - loss: 4.6114 - accuracy: 0.0103 - val_loss: 4.6116 - val_accuracy: 0.0100\n",
            "Epoch 7/20\n",
            "1563/1563 [==============================] - 30s 19ms/step - loss: 4.6120 - accuracy: 0.0094 - val_loss: 4.6115 - val_accuracy: 0.0100\n",
            "Epoch 8/20\n",
            "1563/1563 [==============================] - 28s 18ms/step - loss: 4.6114 - accuracy: 0.0096 - val_loss: 4.6104 - val_accuracy: 0.0100\n",
            "Epoch 9/20\n",
            "1563/1563 [==============================] - 29s 19ms/step - loss: 4.6117 - accuracy: 0.0088 - val_loss: 4.6101 - val_accuracy: 0.0100\n",
            "Epoch 10/20\n",
            "1563/1563 [==============================] - 29s 19ms/step - loss: 4.6113 - accuracy: 0.0099 - val_loss: 4.6098 - val_accuracy: 0.0100\n",
            "Epoch 11/20\n",
            "1563/1563 [==============================] - 29s 19ms/step - loss: 4.6115 - accuracy: 0.0095 - val_loss: 4.6093 - val_accuracy: 0.0100\n",
            "Epoch 12/20\n",
            "1563/1563 [==============================] - 29s 18ms/step - loss: 4.6116 - accuracy: 0.0085 - val_loss: 4.6106 - val_accuracy: 0.0100\n",
            "Epoch 13/20\n",
            "1563/1563 [==============================] - 30s 19ms/step - loss: 4.6118 - accuracy: 0.0092 - val_loss: 4.6094 - val_accuracy: 0.0100\n",
            "Epoch 14/20\n",
            "1563/1563 [==============================] - 29s 18ms/step - loss: 4.6110 - accuracy: 0.0099 - val_loss: 4.6107 - val_accuracy: 0.0100\n",
            "Epoch 15/20\n",
            "1563/1563 [==============================] - 30s 19ms/step - loss: 4.6124 - accuracy: 0.0092 - val_loss: 4.6102 - val_accuracy: 0.0100\n",
            "Epoch 16/20\n",
            "1563/1563 [==============================] - 29s 19ms/step - loss: 4.6119 - accuracy: 0.0099 - val_loss: 4.6102 - val_accuracy: 0.0100\n",
            "Epoch 17/20\n",
            "1563/1563 [==============================] - 31s 20ms/step - loss: 4.6259 - accuracy: 0.0104 - val_loss: 4.6100 - val_accuracy: 0.0100\n",
            "Epoch 18/20\n",
            "1563/1563 [==============================] - 30s 19ms/step - loss: 4.6116 - accuracy: 0.0087 - val_loss: 4.6095 - val_accuracy: 0.0100\n",
            "Epoch 19/20\n",
            "1563/1563 [==============================] - 31s 20ms/step - loss: 4.6116 - accuracy: 0.0094 - val_loss: 4.6103 - val_accuracy: 0.0100\n",
            "Epoch 20/20\n",
            "1563/1563 [==============================] - 31s 20ms/step - loss: 4.6119 - accuracy: 0.0093 - val_loss: 4.6105 - val_accuracy: 0.0100\n"
          ],
          "name": "stdout"
        },
        {
          "output_type": "stream",
          "text": [
            "\u001b[32m[I 2021-07-22 00:11:46,613]\u001b[0m Trial 2 finished with value: 0.009999999776482582 and parameters: {'weight_decay': 7.118519422137838e-09, 'optimizer': 'Adam', 'adam_learning_rate': 0.012829373229911437}. Best is trial 0 with value: 0.4982999861240387.\u001b[0m\n"
          ],
          "name": "stderr"
        },
        {
          "output_type": "stream",
          "text": [
            "Study statistics: \n",
            "  Number of finished trials:  3\n",
            "  Number of pruned trials:  0\n",
            "  Number of complete trials:  3\n",
            "Best trial:\n",
            "  Value:  0.4982999861240387\n",
            "  Params: \n",
            "    weight_decay: 4.7334492434534885e-09\n",
            "    optimizer: Adam\n",
            "    adam_learning_rate: 0.0004190581840410445\n"
          ],
          "name": "stdout"
        }
      ]
    },
    {
      "cell_type": "code",
      "metadata": {
        "id": "3d90487a-2f45-45d7-9283-518fe3a33a1f",
        "colab": {
          "base_uri": "https://localhost:8080/",
          "height": 542
        },
        "outputId": "bc4b714c-3cbd-4ccd-ccf8-55c5ea1ef095"
      },
      "source": [
        "from optuna.visualization import plot_contour\n",
        "from optuna.visualization import plot_edf\n",
        "from optuna.visualization import plot_intermediate_values\n",
        "from optuna.visualization import plot_optimization_history\n",
        "from optuna.visualization import plot_parallel_coordinate\n",
        "from optuna.visualization import plot_param_importances\n",
        "from optuna.visualization import plot_slice\n",
        "\n",
        "plot_param_importances(study)\n",
        "plot_intermediate_values(study)\n",
        "plot_optimization_history(study)"
      ],
      "id": "3d90487a-2f45-45d7-9283-518fe3a33a1f",
      "execution_count": 18,
      "outputs": [
        {
          "output_type": "display_data",
          "data": {
            "text/html": [
              "<html>\n",
              "<head><meta charset=\"utf-8\" /></head>\n",
              "<body>\n",
              "    <div>\n",
              "            <script src=\"https://cdnjs.cloudflare.com/ajax/libs/mathjax/2.7.5/MathJax.js?config=TeX-AMS-MML_SVG\"></script><script type=\"text/javascript\">if (window.MathJax) {MathJax.Hub.Config({SVG: {font: \"STIX-Web\"}});}</script>\n",
              "                <script type=\"text/javascript\">window.PlotlyConfig = {MathJaxConfig: 'local'};</script>\n",
              "        <script src=\"https://cdn.plot.ly/plotly-latest.min.js\"></script>    \n",
              "            <div id=\"884d7191-38a5-41e8-b8bd-cf319c160ff3\" class=\"plotly-graph-div\" style=\"height:525px; width:100%;\"></div>\n",
              "            <script type=\"text/javascript\">\n",
              "                \n",
              "                    window.PLOTLYENV=window.PLOTLYENV || {};\n",
              "                    \n",
              "                if (document.getElementById(\"884d7191-38a5-41e8-b8bd-cf319c160ff3\")) {\n",
              "                    Plotly.newPlot(\n",
              "                        '884d7191-38a5-41e8-b8bd-cf319c160ff3',\n",
              "                        [{\"mode\": \"markers\", \"name\": \"Objective Value\", \"type\": \"scatter\", \"x\": [0, 1, 2], \"y\": [0.4982999861240387, 0.24320000410079956, 0.009999999776482582]}, {\"name\": \"Best Value\", \"type\": \"scatter\", \"x\": [0, 1, 2], \"y\": [0.4982999861240387, 0.4982999861240387, 0.4982999861240387]}],\n",
              "                        {\"template\": {\"data\": {\"bar\": [{\"error_x\": {\"color\": \"#2a3f5f\"}, \"error_y\": {\"color\": \"#2a3f5f\"}, \"marker\": {\"line\": {\"color\": \"#E5ECF6\", \"width\": 0.5}}, \"type\": \"bar\"}], \"barpolar\": [{\"marker\": {\"line\": {\"color\": \"#E5ECF6\", \"width\": 0.5}}, \"type\": \"barpolar\"}], \"carpet\": [{\"aaxis\": {\"endlinecolor\": \"#2a3f5f\", \"gridcolor\": \"white\", \"linecolor\": \"white\", \"minorgridcolor\": \"white\", \"startlinecolor\": \"#2a3f5f\"}, \"baxis\": {\"endlinecolor\": \"#2a3f5f\", \"gridcolor\": \"white\", \"linecolor\": \"white\", \"minorgridcolor\": \"white\", \"startlinecolor\": \"#2a3f5f\"}, \"type\": \"carpet\"}], \"choropleth\": [{\"colorbar\": {\"outlinewidth\": 0, \"ticks\": \"\"}, \"type\": \"choropleth\"}], \"contour\": [{\"colorbar\": {\"outlinewidth\": 0, \"ticks\": \"\"}, \"colorscale\": [[0.0, \"#0d0887\"], [0.1111111111111111, \"#46039f\"], [0.2222222222222222, \"#7201a8\"], [0.3333333333333333, \"#9c179e\"], [0.4444444444444444, \"#bd3786\"], [0.5555555555555556, \"#d8576b\"], [0.6666666666666666, \"#ed7953\"], [0.7777777777777778, \"#fb9f3a\"], [0.8888888888888888, \"#fdca26\"], [1.0, \"#f0f921\"]], \"type\": \"contour\"}], \"contourcarpet\": [{\"colorbar\": {\"outlinewidth\": 0, \"ticks\": \"\"}, \"type\": \"contourcarpet\"}], \"heatmap\": [{\"colorbar\": {\"outlinewidth\": 0, \"ticks\": \"\"}, \"colorscale\": [[0.0, \"#0d0887\"], [0.1111111111111111, \"#46039f\"], [0.2222222222222222, \"#7201a8\"], [0.3333333333333333, \"#9c179e\"], [0.4444444444444444, \"#bd3786\"], [0.5555555555555556, \"#d8576b\"], [0.6666666666666666, \"#ed7953\"], [0.7777777777777778, \"#fb9f3a\"], [0.8888888888888888, \"#fdca26\"], [1.0, \"#f0f921\"]], \"type\": \"heatmap\"}], \"heatmapgl\": [{\"colorbar\": {\"outlinewidth\": 0, \"ticks\": \"\"}, \"colorscale\": [[0.0, \"#0d0887\"], [0.1111111111111111, \"#46039f\"], [0.2222222222222222, \"#7201a8\"], [0.3333333333333333, \"#9c179e\"], [0.4444444444444444, \"#bd3786\"], [0.5555555555555556, \"#d8576b\"], [0.6666666666666666, \"#ed7953\"], [0.7777777777777778, \"#fb9f3a\"], [0.8888888888888888, \"#fdca26\"], [1.0, \"#f0f921\"]], \"type\": \"heatmapgl\"}], \"histogram\": [{\"marker\": {\"colorbar\": {\"outlinewidth\": 0, \"ticks\": \"\"}}, \"type\": \"histogram\"}], \"histogram2d\": [{\"colorbar\": {\"outlinewidth\": 0, \"ticks\": \"\"}, \"colorscale\": [[0.0, \"#0d0887\"], [0.1111111111111111, \"#46039f\"], [0.2222222222222222, \"#7201a8\"], [0.3333333333333333, \"#9c179e\"], [0.4444444444444444, \"#bd3786\"], [0.5555555555555556, \"#d8576b\"], [0.6666666666666666, \"#ed7953\"], [0.7777777777777778, \"#fb9f3a\"], [0.8888888888888888, \"#fdca26\"], [1.0, \"#f0f921\"]], \"type\": \"histogram2d\"}], \"histogram2dcontour\": [{\"colorbar\": {\"outlinewidth\": 0, \"ticks\": \"\"}, \"colorscale\": [[0.0, \"#0d0887\"], [0.1111111111111111, \"#46039f\"], [0.2222222222222222, \"#7201a8\"], [0.3333333333333333, \"#9c179e\"], [0.4444444444444444, \"#bd3786\"], [0.5555555555555556, \"#d8576b\"], [0.6666666666666666, \"#ed7953\"], [0.7777777777777778, \"#fb9f3a\"], [0.8888888888888888, \"#fdca26\"], [1.0, \"#f0f921\"]], \"type\": \"histogram2dcontour\"}], \"mesh3d\": [{\"colorbar\": {\"outlinewidth\": 0, \"ticks\": \"\"}, \"type\": \"mesh3d\"}], \"parcoords\": [{\"line\": {\"colorbar\": {\"outlinewidth\": 0, \"ticks\": \"\"}}, \"type\": \"parcoords\"}], \"pie\": [{\"automargin\": true, \"type\": \"pie\"}], \"scatter\": [{\"marker\": {\"colorbar\": {\"outlinewidth\": 0, \"ticks\": \"\"}}, \"type\": \"scatter\"}], \"scatter3d\": [{\"line\": {\"colorbar\": {\"outlinewidth\": 0, \"ticks\": \"\"}}, \"marker\": {\"colorbar\": {\"outlinewidth\": 0, \"ticks\": \"\"}}, \"type\": \"scatter3d\"}], \"scattercarpet\": [{\"marker\": {\"colorbar\": {\"outlinewidth\": 0, \"ticks\": \"\"}}, \"type\": \"scattercarpet\"}], \"scattergeo\": [{\"marker\": {\"colorbar\": {\"outlinewidth\": 0, \"ticks\": \"\"}}, \"type\": \"scattergeo\"}], \"scattergl\": [{\"marker\": {\"colorbar\": {\"outlinewidth\": 0, \"ticks\": \"\"}}, \"type\": \"scattergl\"}], \"scattermapbox\": [{\"marker\": {\"colorbar\": {\"outlinewidth\": 0, \"ticks\": \"\"}}, \"type\": \"scattermapbox\"}], \"scatterpolar\": [{\"marker\": {\"colorbar\": {\"outlinewidth\": 0, \"ticks\": \"\"}}, \"type\": \"scatterpolar\"}], \"scatterpolargl\": [{\"marker\": {\"colorbar\": {\"outlinewidth\": 0, \"ticks\": \"\"}}, \"type\": \"scatterpolargl\"}], \"scatterternary\": [{\"marker\": {\"colorbar\": {\"outlinewidth\": 0, \"ticks\": \"\"}}, \"type\": \"scatterternary\"}], \"surface\": [{\"colorbar\": {\"outlinewidth\": 0, \"ticks\": \"\"}, \"colorscale\": [[0.0, \"#0d0887\"], [0.1111111111111111, \"#46039f\"], [0.2222222222222222, \"#7201a8\"], [0.3333333333333333, \"#9c179e\"], [0.4444444444444444, \"#bd3786\"], [0.5555555555555556, \"#d8576b\"], [0.6666666666666666, \"#ed7953\"], [0.7777777777777778, \"#fb9f3a\"], [0.8888888888888888, \"#fdca26\"], [1.0, \"#f0f921\"]], \"type\": \"surface\"}], \"table\": [{\"cells\": {\"fill\": {\"color\": \"#EBF0F8\"}, \"line\": {\"color\": \"white\"}}, \"header\": {\"fill\": {\"color\": \"#C8D4E3\"}, \"line\": {\"color\": \"white\"}}, \"type\": \"table\"}]}, \"layout\": {\"annotationdefaults\": {\"arrowcolor\": \"#2a3f5f\", \"arrowhead\": 0, \"arrowwidth\": 1}, \"coloraxis\": {\"colorbar\": {\"outlinewidth\": 0, \"ticks\": \"\"}}, \"colorscale\": {\"diverging\": [[0, \"#8e0152\"], [0.1, \"#c51b7d\"], [0.2, \"#de77ae\"], [0.3, \"#f1b6da\"], [0.4, \"#fde0ef\"], [0.5, \"#f7f7f7\"], [0.6, \"#e6f5d0\"], [0.7, \"#b8e186\"], [0.8, \"#7fbc41\"], [0.9, \"#4d9221\"], [1, \"#276419\"]], \"sequential\": [[0.0, \"#0d0887\"], [0.1111111111111111, \"#46039f\"], [0.2222222222222222, \"#7201a8\"], [0.3333333333333333, \"#9c179e\"], [0.4444444444444444, \"#bd3786\"], [0.5555555555555556, \"#d8576b\"], [0.6666666666666666, \"#ed7953\"], [0.7777777777777778, \"#fb9f3a\"], [0.8888888888888888, \"#fdca26\"], [1.0, \"#f0f921\"]], \"sequentialminus\": [[0.0, \"#0d0887\"], [0.1111111111111111, \"#46039f\"], [0.2222222222222222, \"#7201a8\"], [0.3333333333333333, \"#9c179e\"], [0.4444444444444444, \"#bd3786\"], [0.5555555555555556, \"#d8576b\"], [0.6666666666666666, \"#ed7953\"], [0.7777777777777778, \"#fb9f3a\"], [0.8888888888888888, \"#fdca26\"], [1.0, \"#f0f921\"]]}, \"colorway\": [\"#636efa\", \"#EF553B\", \"#00cc96\", \"#ab63fa\", \"#FFA15A\", \"#19d3f3\", \"#FF6692\", \"#B6E880\", \"#FF97FF\", \"#FECB52\"], \"font\": {\"color\": \"#2a3f5f\"}, \"geo\": {\"bgcolor\": \"white\", \"lakecolor\": \"white\", \"landcolor\": \"#E5ECF6\", \"showlakes\": true, \"showland\": true, \"subunitcolor\": \"white\"}, \"hoverlabel\": {\"align\": \"left\"}, \"hovermode\": \"closest\", \"mapbox\": {\"style\": \"light\"}, \"paper_bgcolor\": \"white\", \"plot_bgcolor\": \"#E5ECF6\", \"polar\": {\"angularaxis\": {\"gridcolor\": \"white\", \"linecolor\": \"white\", \"ticks\": \"\"}, \"bgcolor\": \"#E5ECF6\", \"radialaxis\": {\"gridcolor\": \"white\", \"linecolor\": \"white\", \"ticks\": \"\"}}, \"scene\": {\"xaxis\": {\"backgroundcolor\": \"#E5ECF6\", \"gridcolor\": \"white\", \"gridwidth\": 2, \"linecolor\": \"white\", \"showbackground\": true, \"ticks\": \"\", \"zerolinecolor\": \"white\"}, \"yaxis\": {\"backgroundcolor\": \"#E5ECF6\", \"gridcolor\": \"white\", \"gridwidth\": 2, \"linecolor\": \"white\", \"showbackground\": true, \"ticks\": \"\", \"zerolinecolor\": \"white\"}, \"zaxis\": {\"backgroundcolor\": \"#E5ECF6\", \"gridcolor\": \"white\", \"gridwidth\": 2, \"linecolor\": \"white\", \"showbackground\": true, \"ticks\": \"\", \"zerolinecolor\": \"white\"}}, \"shapedefaults\": {\"line\": {\"color\": \"#2a3f5f\"}}, \"ternary\": {\"aaxis\": {\"gridcolor\": \"white\", \"linecolor\": \"white\", \"ticks\": \"\"}, \"baxis\": {\"gridcolor\": \"white\", \"linecolor\": \"white\", \"ticks\": \"\"}, \"bgcolor\": \"#E5ECF6\", \"caxis\": {\"gridcolor\": \"white\", \"linecolor\": \"white\", \"ticks\": \"\"}}, \"title\": {\"x\": 0.05}, \"xaxis\": {\"automargin\": true, \"gridcolor\": \"white\", \"linecolor\": \"white\", \"ticks\": \"\", \"title\": {\"standoff\": 15}, \"zerolinecolor\": \"white\", \"zerolinewidth\": 2}, \"yaxis\": {\"automargin\": true, \"gridcolor\": \"white\", \"linecolor\": \"white\", \"ticks\": \"\", \"title\": {\"standoff\": 15}, \"zerolinecolor\": \"white\", \"zerolinewidth\": 2}}}, \"title\": {\"text\": \"Optimization History Plot\"}, \"xaxis\": {\"title\": {\"text\": \"#Trials\"}}, \"yaxis\": {\"title\": {\"text\": \"Objective Value\"}}},\n",
              "                        {\"responsive\": true}\n",
              "                    ).then(function(){\n",
              "                            \n",
              "var gd = document.getElementById('884d7191-38a5-41e8-b8bd-cf319c160ff3');\n",
              "var x = new MutationObserver(function (mutations, observer) {{\n",
              "        var display = window.getComputedStyle(gd).display;\n",
              "        if (!display || display === 'none') {{\n",
              "            console.log([gd, 'removed!']);\n",
              "            Plotly.purge(gd);\n",
              "            observer.disconnect();\n",
              "        }}\n",
              "}});\n",
              "\n",
              "// Listen for the removal of the full notebook cells\n",
              "var notebookContainer = gd.closest('#notebook-container');\n",
              "if (notebookContainer) {{\n",
              "    x.observe(notebookContainer, {childList: true});\n",
              "}}\n",
              "\n",
              "// Listen for the clearing of the current output cell\n",
              "var outputEl = gd.closest('.output');\n",
              "if (outputEl) {{\n",
              "    x.observe(outputEl, {childList: true});\n",
              "}}\n",
              "\n",
              "                        })\n",
              "                };\n",
              "                \n",
              "            </script>\n",
              "        </div>\n",
              "</body>\n",
              "</html>"
            ]
          },
          "metadata": {
            "tags": []
          }
        }
      ]
    },
    {
      "cell_type": "code",
      "metadata": {
        "id": "633de717-23e6-4f57-a0cf-d281a9357acf",
        "colab": {
          "base_uri": "https://localhost:8080/",
          "height": 232
        },
        "outputId": "78d967f6-9032-4021-c4c7-4895cadf0a8d"
      },
      "source": [
        "import numpy as np\n",
        "import matplotlib.pyplot as plt\n",
        "\n",
        "plt.plot(history.history['accuracy'])\n",
        "plt.plot(history.history['val_accuracy'])\n",
        "plt.legend(['training', 'validation'], loc = 'upper left')\n",
        "plt.title('Training and validation accuracy')\n",
        "plt.show()\n",
        "\n",
        "plt.plot(history.history['loss'])\n",
        "plt.plot(history.history['val_loss'])\n",
        "plt.legend(['training', 'validation'], loc = 'upper left')\n",
        "plt.title('Training and validation loss')\n",
        "plt.show()"
      ],
      "id": "633de717-23e6-4f57-a0cf-d281a9357acf",
      "execution_count": 19,
      "outputs": [
        {
          "output_type": "error",
          "ename": "NameError",
          "evalue": "ignored",
          "traceback": [
            "\u001b[0;31m---------------------------------------------------------------------------\u001b[0m",
            "\u001b[0;31mNameError\u001b[0m                                 Traceback (most recent call last)",
            "\u001b[0;32m<ipython-input-19-d91b641b23d2>\u001b[0m in \u001b[0;36m<module>\u001b[0;34m()\u001b[0m\n\u001b[1;32m      2\u001b[0m \u001b[0;32mimport\u001b[0m \u001b[0mmatplotlib\u001b[0m\u001b[0;34m.\u001b[0m\u001b[0mpyplot\u001b[0m \u001b[0;32mas\u001b[0m \u001b[0mplt\u001b[0m\u001b[0;34m\u001b[0m\u001b[0;34m\u001b[0m\u001b[0m\n\u001b[1;32m      3\u001b[0m \u001b[0;34m\u001b[0m\u001b[0m\n\u001b[0;32m----> 4\u001b[0;31m \u001b[0mplt\u001b[0m\u001b[0;34m.\u001b[0m\u001b[0mplot\u001b[0m\u001b[0;34m(\u001b[0m\u001b[0mhistory\u001b[0m\u001b[0;34m.\u001b[0m\u001b[0mhistory\u001b[0m\u001b[0;34m[\u001b[0m\u001b[0;34m'accuracy'\u001b[0m\u001b[0;34m]\u001b[0m\u001b[0;34m)\u001b[0m\u001b[0;34m\u001b[0m\u001b[0;34m\u001b[0m\u001b[0m\n\u001b[0m\u001b[1;32m      5\u001b[0m \u001b[0mplt\u001b[0m\u001b[0;34m.\u001b[0m\u001b[0mplot\u001b[0m\u001b[0;34m(\u001b[0m\u001b[0mhistory\u001b[0m\u001b[0;34m.\u001b[0m\u001b[0mhistory\u001b[0m\u001b[0;34m[\u001b[0m\u001b[0;34m'val_accuracy'\u001b[0m\u001b[0;34m]\u001b[0m\u001b[0;34m)\u001b[0m\u001b[0;34m\u001b[0m\u001b[0;34m\u001b[0m\u001b[0m\n\u001b[1;32m      6\u001b[0m \u001b[0mplt\u001b[0m\u001b[0;34m.\u001b[0m\u001b[0mlegend\u001b[0m\u001b[0;34m(\u001b[0m\u001b[0;34m[\u001b[0m\u001b[0;34m'training'\u001b[0m\u001b[0;34m,\u001b[0m \u001b[0;34m'validation'\u001b[0m\u001b[0;34m]\u001b[0m\u001b[0;34m,\u001b[0m \u001b[0mloc\u001b[0m \u001b[0;34m=\u001b[0m \u001b[0;34m'upper left'\u001b[0m\u001b[0;34m)\u001b[0m\u001b[0;34m\u001b[0m\u001b[0;34m\u001b[0m\u001b[0m\n",
            "\u001b[0;31mNameError\u001b[0m: name 'history' is not defined"
          ]
        }
      ]
    }
  ]
}